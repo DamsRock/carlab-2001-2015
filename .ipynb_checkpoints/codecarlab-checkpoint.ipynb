{
 "cells": [
  {
   "cell_type": "code",
   "execution_count": null,
   "metadata": {},
   "outputs": [],
   "source": [
    "import numpy as np\n",
    "import pandas as pd\n",
    "import matplotlib.pyplot as plt\n",
    "import seaborn as sns\n",
    "\n",
    "\n",
    "xls2001 = pd.read_excel(\"./2001.xls\")\n",
    "xls2002 = pd.read_excel(\"./2002.xls\")\n",
    "xls2003 = pd.read_excel(\"./2003.xls\")\n",
    "xls2004 = pd.read_excel(\"./2004.xls\")\n",
    "xls2005 = pd.read_excel(\"./2005.xls\")\n",
    "xls2006 = pd.read_excel(\"./2006.xls\")\n",
    "xls2007 = pd.read_excel(\"./2007.xls\")\n",
    "xls2008 = pd.read_excel(\"./2008.xls\")\n",
    "xls2009 = pd.read_excel(\"./2009.xls\")\n",
    "xls2010 = pd.read_excel(\"./2010.xls\")\n",
    "xls2011 = pd.read_excel(\"./2011.xls\")\n",
    "xls2012 = pd.read_excel(\"./2012.xls\")\n",
    "xls2013 = pd.read_excel(\"./2013.xls\")\n",
    "xls2014 = pd.read_excel(\"./2014.xls\")\n",
    "xls2015 = pd.read_excel(\"./2015.xls\")\n",
    "\n",
    "\n",
    "df2001 = xls2001.shape\n",
    "df2002 = xls2002.shape\n",
    "df2003 = xls2003.shape\n",
    "df2004 = xls2004.shape\n",
    "df2005 = xls2005.shape\n",
    "df2006 = xls2006.shape\n",
    "df2007 = xls2007.shape\n",
    "df2008 = xls2008.shape\n",
    "df2009 = xls2009.shape\n",
    "df2010 = xls2010.shape\n",
    "df2011 = xls2011.shape\n",
    "df2012 = xls2012.shape\n",
    "df2013 = xls2013.shape\n",
    "df2014 = xls2014.shape\n",
    "df2015 = xls2015.shape\n",
    "\n",
    "\n",
    "\n",
    "print(df2001)\n",
    "print(df2002)\n",
    "print(df2003)\n",
    "print(df2001)\n",
    "print(df2001)\n",
    "print(df2001)\n",
    "print(df2001)\n",
    "print(df2001)\n",
    "print(df2001)\n",
    "print(df2010)\n",
    "print(df2011)\n",
    "print(df2012)\n",
    "print(df2013)\n",
    "print(df2014)\n",
    "print(df2015)\n"
   ]
  }
 ],
 "metadata": {
  "kernelspec": {
   "display_name": "Python 3",
   "language": "python",
   "name": "python3"
  },
  "language_info": {
   "codemirror_mode": {
    "name": "ipython",
    "version": 3
   },
   "file_extension": ".py",
   "mimetype": "text/x-python",
   "name": "python",
   "nbconvert_exporter": "python",
   "pygments_lexer": "ipython3",
   "version": "3.7.6"
  }
 },
 "nbformat": 4,
 "nbformat_minor": 4
}
