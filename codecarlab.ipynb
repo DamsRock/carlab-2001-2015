{
 "cells": [
  {
   "cell_type": "code",
   "execution_count": 7,
   "metadata": {},
   "outputs": [
    {
     "data": {
      "text/plain": [
       "Index(['MARQUES', 'MODELE', 'TYP. MINES', 'CNIT', 'CARB', 'CV', 'PUISS.', 'BV',\n",
       "       'Urbain', 'Ex.Urb', 'Mixte', 'CO2'],\n",
       "      dtype='object')"
      ]
     },
     "execution_count": 7,
     "metadata": {},
     "output_type": "execute_result"
    }
   ],
   "source": [
    "import numpy as np\n",
    "import pandas as pd\n",
    "import matplotlib.pyplot as plt\n",
    "import seaborn as sns\n",
    "\n",
    "\n",
    "xls2001 = pd.read_excel(\"2001.xls\")\n",
    "xls2002 = pd.read_excel(\"2002.xls\")\n",
    "xls2003 = pd.read_excel(\"2003.xls\")\n",
    "xls2004 = pd.read_excel(\"2004.xls\")\n",
    "xls2005 = pd.read_excel(\"2005.xls\")\n",
    "xls2006 = pd.read_excel(\"2006.xls\")\n",
    "xls2007 = pd.read_excel(\"2007.xls\")\n",
    "xls2008 = pd.read_excel(\"2008.xls\")\n",
    "xls2009 = pd.read_excel(\"2009.xls\")\n",
    "xls2010 = pd.read_excel(\"2010.xls\")\n",
    "xls2011 = pd.read_excel(\"2011.xls\")\n",
    "xls2012 = pd.read_excel(\"2012.xls\")\n",
    "xls2013 = pd.read_excel(\"2013.xls\")\n",
    "xls2014 = pd.read_excel(\"2014.xls\")\n",
    "xls2015 = pd.read_excel(\"2015.xls\")\n",
    "\n",
    "xls2001.shape\n",
    "xls2001.columns\n"
   ]
  },
  {
   "cell_type": "code",
   "execution_count": null,
   "metadata": {},
   "outputs": [],
   "source": []
  }
 ],
 "metadata": {
  "kernelspec": {
   "display_name": "Python 3",
   "language": "python",
   "name": "python3"
  },
  "language_info": {
   "codemirror_mode": {
    "name": "ipython",
    "version": 3
   },
   "file_extension": ".py",
   "mimetype": "text/x-python",
   "name": "python",
   "nbconvert_exporter": "python",
   "pygments_lexer": "ipython3",
   "version": "3.7.6"
  }
 },
 "nbformat": 4,
 "nbformat_minor": 4
}
